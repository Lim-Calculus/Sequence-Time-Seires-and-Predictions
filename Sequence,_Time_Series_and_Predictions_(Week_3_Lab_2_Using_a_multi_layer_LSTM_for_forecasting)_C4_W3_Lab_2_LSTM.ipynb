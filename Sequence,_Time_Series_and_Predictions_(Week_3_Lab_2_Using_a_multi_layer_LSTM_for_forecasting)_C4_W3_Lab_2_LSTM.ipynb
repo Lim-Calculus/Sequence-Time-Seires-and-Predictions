{
  "cells": [
    {
      "cell_type": "markdown",
      "metadata": {
        "id": "view-in-github",
        "colab_type": "text"
      },
      "source": [
        "<a href=\"https://colab.research.google.com/github/Lim-Calculus/Sequence-Time-Seires-and-Predictions/blob/main/Sequence%2C_Time_Series_and_Predictions_(Week_3_Lab_2_Using_a_multi_layer_LSTM_for_forecasting)_C4_W3_Lab_2_LSTM.ipynb\" target=\"_parent\"><img src=\"https://colab.research.google.com/assets/colab-badge.svg\" alt=\"Open In Colab\"/></a>"
      ]
    },
    {
      "cell_type": "markdown",
      "metadata": {
        "id": "SJpPI4NSCq7Z"
      },
      "source": [
        "<a href=\"https://colab.research.google.com/github/https-deeplearning-ai/tensorflow-1-public/blob/main/C4/W3/ungraded_labs/C4_W3_Lab_2_LSTM.ipynb\" target=\"_parent\"><img src=\"https://colab.research.google.com/assets/colab-badge.svg\" alt=\"Open In Colab\"/></a>"
      ]
    },
    {
      "cell_type": "markdown",
      "metadata": {
        "id": "sV_nvXSQGJPK"
      },
      "source": [
        "# Ungraded Lab: Using a multi-layer LSTM for forecasting\n",
        "\n",
        "In this lab, you will use the same RNN architecure in the first lab but will instead stack [LSTM](https://www.tensorflow.org/api_docs/python/tf/keras/layers/LSTM) layers instead of `SimpleRNN`."
      ]
    },
    {
      "cell_type": "markdown",
      "metadata": {
        "id": "3IMbAWETGOWD"
      },
      "source": [
        "## Imports"
      ]
    },
    {
      "cell_type": "code",
      "execution_count": 1,
      "metadata": {
        "id": "BOjujz601HcS"
      },
      "outputs": [],
      "source": [
        "import tensorflow as tf\n",
        "import numpy as np\n",
        "import matplotlib.pyplot as plt"
      ]
    },
    {
      "cell_type": "markdown",
      "metadata": {
        "id": "kD7RQQ0xGQVH"
      },
      "source": [
        "## Utilities"
      ]
    },
    {
      "cell_type": "code",
      "execution_count": 2,
      "metadata": {
        "id": "Zswl7jRtGzkk"
      },
      "outputs": [],
      "source": [
        "def plot_series(time, series, format=\"-\", start=0, end=None):\n",
        "    \"\"\"\n",
        "    Visualizes time series data\n",
        "\n",
        "    Args:\n",
        "      time (array of int) - contains the time steps\n",
        "      series (array of int) - contains the measurements for each time step\n",
        "      format - line style when plotting the graph\n",
        "      start - first time step to plot\n",
        "      end - last time step to plot\n",
        "    \"\"\"\n",
        "\n",
        "    # Setup dimensions of the graph figure\n",
        "    plt.figure(figsize=(10, 6))\n",
        "    \n",
        "    if type(series) is tuple:\n",
        "\n",
        "      for series_num in series:\n",
        "        # Plot the time series data\n",
        "        plt.plot(time[start:end], series_num[start:end], format)\n",
        "\n",
        "    else:\n",
        "      # Plot the time series data\n",
        "      plt.plot(time[start:end], series[start:end], format)\n",
        "\n",
        "    # Label the x-axis\n",
        "    plt.xlabel(\"Time\")\n",
        "\n",
        "    # Label the y-axis\n",
        "    plt.ylabel(\"Value\")\n",
        "\n",
        "    # Overlay a grid on the graph\n",
        "    plt.grid(True)\n",
        "\n",
        "    # Draw the graph on screen\n",
        "    plt.show()\n",
        "\n",
        "def trend(time, slope=0):\n",
        "    \"\"\"\n",
        "    Generates synthetic data that follows a straight line given a slope value.\n",
        "\n",
        "    Args:\n",
        "      time (array of int) - contains the time steps\n",
        "      slope (float) - determines the direction and steepness of the line\n",
        "\n",
        "    Returns:\n",
        "      series (array of float) - measurements that follow a straight line\n",
        "    \"\"\"\n",
        "\n",
        "    # Compute the linear series given the slope\n",
        "    series = slope * time\n",
        "\n",
        "    return series\n",
        "\n",
        "def seasonal_pattern(season_time):\n",
        "    \"\"\"\n",
        "    Just an arbitrary pattern, you can change it if you wish\n",
        "    \n",
        "    Args:\n",
        "      season_time (array of float) - contains the measurements per time step\n",
        "\n",
        "    Returns:\n",
        "      data_pattern (array of float) -  contains revised measurement values according \n",
        "                                  to the defined pattern\n",
        "    \"\"\"\n",
        "\n",
        "    # Generate the values using an arbitrary pattern\n",
        "    data_pattern = np.where(season_time < 0.4,\n",
        "                    np.cos(season_time * 2 * np.pi),\n",
        "                    1 / np.exp(3 * season_time))\n",
        "    \n",
        "    return data_pattern\n",
        "\n",
        "def seasonality(time, period, amplitude=1, phase=0):\n",
        "    \"\"\"\n",
        "    Repeats the same pattern at each period\n",
        "\n",
        "    Args:\n",
        "      time (array of int) - contains the time steps\n",
        "      period (int) - number of time steps before the pattern repeats\n",
        "      amplitude (int) - peak measured value in a period\n",
        "      phase (int) - number of time steps to shift the measured values\n",
        "\n",
        "    Returns:\n",
        "      data_pattern (array of float) - seasonal data scaled by the defined amplitude\n",
        "    \"\"\"\n",
        "    \n",
        "    # Define the measured values per period\n",
        "    season_time = ((time + phase) % period) / period\n",
        "\n",
        "    # Generates the seasonal data scaled by the defined amplitude\n",
        "    data_pattern = amplitude * seasonal_pattern(season_time)\n",
        "\n",
        "    return data_pattern\n",
        "\n",
        "def noise(time, noise_level=1, seed=None):\n",
        "    \"\"\"Generates a normally distributed noisy signal\n",
        "\n",
        "    Args:\n",
        "      time (array of int) - contains the time steps\n",
        "      noise_level (float) - scaling factor for the generated signal\n",
        "      seed (int) - number generator seed for repeatability\n",
        "\n",
        "    Returns:\n",
        "      noise (array of float) - the noisy signal\n",
        "    \"\"\"\n",
        "\n",
        "    # Initialize the random number generator\n",
        "    rnd = np.random.RandomState(seed)\n",
        "\n",
        "    # Generate a random number for each time step and scale by the noise level\n",
        "    noise = rnd.randn(len(time)) * noise_level\n",
        "    \n",
        "    return noise"
      ]
    },
    {
      "cell_type": "markdown",
      "metadata": {
        "id": "yxNyeFWjGSdj"
      },
      "source": [
        "## Generate the Synthetic Data"
      ]
    },
    {
      "cell_type": "code",
      "execution_count": 3,
      "metadata": {
        "id": "KYEUfDbdpHPm",
        "colab": {
          "base_uri": "https://localhost:8080/",
          "height": 388
        },
        "outputId": "770e8246-c352-4a61-f043-a090ff163e55"
      },
      "outputs": [
        {
          "output_type": "display_data",
          "data": {
            "text/plain": [
              "<Figure size 720x432 with 1 Axes>"
            ],
            "image/png": "[encoded data removed]"
          },
          "metadata": {
            "needs_background": "light"
          }
        }
      ],
      "source": [
        "# Parameters\n",
        "time = np.arange(4 * 365 + 1, dtype=\"float32\")\n",
        "baseline = 10\n",
        "amplitude = 40\n",
        "slope = 0.05\n",
        "noise_level = 5\n",
        "\n",
        "# Create the series\n",
        "series = baseline + trend(time, slope) + seasonality(time, period=365, amplitude=amplitude)\n",
        "\n",
        "# Update with noise\n",
        "series += noise(time, noise_level, seed=42)\n",
        "\n",
        "# Plot the results\n",
        "plot_series(time, series)"
      ]
    },
    {
      "cell_type": "markdown",
      "metadata": {
        "id": "MYKCvv-eGWRc"
      },
      "source": [
        "## Split the Dataset"
      ]
    },
    {
      "cell_type": "code",
      "execution_count": 4,
      "metadata": {
        "id": "hpp0slenpKVD"
      },
      "outputs": [],
      "source": [
        "# Define the split time\n",
        "split_time = 1000\n",
        "\n",
        "# Get the train set \n",
        "time_train = time[:split_time]\n",
        "x_train = series[:split_time]\n",
        "\n",
        "# Get the validation set\n",
        "time_valid = time[split_time:]\n",
        "x_valid = series[split_time:]"
      ]
    },
    {
      "cell_type": "markdown",
      "metadata": {
        "id": "cktHz9aOGYtV"
      },
      "source": [
        "## Prepare Features and Labels"
      ]
    },
    {
      "cell_type": "code",
      "execution_count": 5,
      "metadata": {
        "id": "G_j_2_Mqwn7-"
      },
      "outputs": [],
      "source": [
        "# Parameters\n",
        "window_size = 20\n",
        "batch_size = 32\n",
        "shuffle_buffer_size = 1000"
      ]
    },
    {
      "cell_type": "code",
      "execution_count": 6,
      "metadata": {
        "id": "4sTTIOCbyShY"
      },
      "outputs": [],
      "source": [
        "def windowed_dataset(series, window_size, batch_size, shuffle_buffer):\n",
        "    \"\"\"Generates dataset windows\n",
        "\n",
        "    Args:\n",
        "      series (array of float) - contains the values of the time series\n",
        "      window_size (int) - the number of time steps to include in the feature\n",
        "      batch_size (int) - the batch size\n",
        "      shuffle_buffer(int) - buffer size to use for the shuffle method\n",
        "\n",
        "    Returns:\n",
        "      dataset (TF Dataset) - TF Dataset containing time windows\n",
        "    \"\"\"\n",
        "  \n",
        "    # Generate a TF Dataset from the series values\n",
        "    dataset = tf.data.Dataset.from_tensor_slices(series)\n",
        "    \n",
        "    # Window the data but only take those with the specified size\n",
        "    dataset = dataset.window(window_size + 1, shift=1, drop_remainder=True)\n",
        "    \n",
        "    # Flatten the windows by putting its elements in a single batch\n",
        "    dataset = dataset.flat_map(lambda window: window.batch(window_size + 1))\n",
        "\n",
        "    # Create tuples with features and labels \n",
        "    dataset = dataset.map(lambda window: (window[:-1], window[-1]))\n",
        "\n",
        "    # Shuffle the windows\n",
        "    dataset = dataset.shuffle(shuffle_buffer)\n",
        "    \n",
        "    # Create batches of windows\n",
        "    dataset = dataset.batch(batch_size).prefetch(1)\n",
        "    \n",
        "    return dataset"
      ]
    },
    {
      "cell_type": "code",
      "execution_count": 7,
      "metadata": {
        "id": "vGj5-InSwtQQ"
      },
      "outputs": [],
      "source": [
        "# Generate the dataset windows\n",
        "dataset = windowed_dataset(x_train, window_size, batch_size, shuffle_buffer_size)"
      ]
    },
    {
      "cell_type": "markdown",
      "metadata": {
        "id": "p9-Ke8ZaGcjd"
      },
      "source": [
        "## Build the Model\n",
        "\n",
        "As mentioned, you will swap `SimpleRNN` for `LSTM` in this lab. It is also set as bidirectional below but feel free to revise later and see what results you get. LSTMs are much more complex in their internal architecture than simpleRNNs. It implements a cell state that allows it to remember sequences better than simple implementations. This added complexity results in a bigger set of parameters to train and you'll see that when you print the model summary below."
      ]
    },
    {
      "cell_type": "code",
      "execution_count": 8,
      "metadata": {
        "id": "A1Hl39rklkLm",
        "colab": {
          "base_uri": "https://localhost:8080/"
        },
        "outputId": "b6eaaec0-1dff-4fd6-f62f-c03f88194580"
      },
      "outputs": [
        {
          "output_type": "stream",
          "name": "stdout",
          "text": [
            "Model: \"sequential\"\n",
            "_________________________________________________________________\n",
            " Layer (type)                Output Shape              Param #   \n",
            "=================================================================\n",
            " lambda (Lambda)             (None, 20, 1)             0         \n",
            "                                                                 \n",
            " bidirectional (Bidirectiona  (None, 20, 64)           8704      \n",
            " l)                                                              \n",
            "                                                                 \n",
            " bidirectional_1 (Bidirectio  (None, 64)               24832     \n",
            " nal)                                                            \n",
            "                                                                 \n",
            " dense (Dense)               (None, 1)                 65        \n",
            "                                                                 \n",
            " lambda_1 (Lambda)           (None, 1)                 0         \n",
            "                                                                 \n",
            "=================================================================\n",
            "Total params: 33,601\n",
            "Trainable params: 33,601\n",
            "Non-trainable params: 0\n",
            "_________________________________________________________________\n"
          ]
        }
      ],
      "source": [
        "# Build the Model\n",
        "model_tune = tf.keras.models.Sequential([\n",
        "  tf.keras.layers.Lambda(lambda x: tf.expand_dims(x, axis=-1),\n",
        "                      input_shape=[window_size]),\n",
        "    tf.keras.layers.Bidirectional(tf.keras.layers.LSTM(32, return_sequences=True)),\n",
        "  tf.keras.layers.Bidirectional(tf.keras.layers.LSTM(32)),\n",
        "  tf.keras.layers.Dense(1),\n",
        "  tf.keras.layers.Lambda(lambda x: x * 100.0)\n",
        "])\n",
        "\n",
        "# Print the model summary\n",
        "model_tune.summary()"
      ]
    },
    {
      "cell_type": "markdown",
      "metadata": {
        "id": "FHaFblbwq0GV"
      },
      "source": [
        "## Tune the Learning Rate\n",
        "\n",
        "As usual, you will pick a learning rate by running the tuning code below."
      ]
    },
    {
      "cell_type": "code",
      "execution_count": 9,
      "metadata": {
        "id": "qE7al18qw48G",
        "colab": {
          "base_uri": "https://localhost:8080/"
        },
        "outputId": "315daaf1-bdba-4e06-b5a4-d62cdb7c783e"
      },
      "outputs": [
        {
          "output_type": "stream",
          "name": "stdout",
          "text": [
            "Epoch 1/100\n",
            "31/31 [==============================] - 26s 103ms/step - loss: 11.4980 - lr: 1.0000e-08\n",
            "Epoch 2/100\n",
            "31/31 [==============================] - 3s 76ms/step - loss: 11.4634 - lr: 1.1220e-08\n",
            "Epoch 3/100\n",
            "31/31 [==============================] - 3s 77ms/step - loss: 11.4231 - lr: 1.2589e-08\n",
            "Epoch 4/100\n",
            "31/31 [==============================] - 3s 85ms/step - loss: 11.3807 - lr: 1.4125e-08\n",
            "Epoch 5/100\n",
            "31/31 [==============================] - 1s 34ms/step - loss: 11.3345 - lr: 1.5849e-08\n",
            "Epoch 6/100\n",
            "31/31 [==============================] - 1s 33ms/step - loss: 11.2866 - lr: 1.7783e-08\n",
            "Epoch 7/100\n",
            "31/31 [==============================] - 1s 33ms/step - loss: 11.2349 - lr: 1.9953e-08\n",
            "Epoch 8/100\n",
            "31/31 [==============================] - 1s 33ms/step - loss: 11.1809 - lr: 2.2387e-08\n",
            "Epoch 9/100\n",
            "31/31 [==============================] - 1s 33ms/step - loss: 11.1227 - lr: 2.5119e-08\n",
            "Epoch 10/100\n",
            "31/31 [==============================] - 1s 33ms/step - loss: 11.0597 - lr: 2.8184e-08\n",
            "Epoch 11/100\n",
            "31/31 [==============================] - 1s 35ms/step - loss: 10.9931 - lr: 3.1623e-08\n",
            "Epoch 12/100\n",
            "31/31 [==============================] - 1s 34ms/step - loss: 10.9207 - lr: 3.5481e-08\n",
            "Epoch 13/100\n",
            "31/31 [==============================] - 1s 32ms/step - loss: 10.8440 - lr: 3.9811e-08\n",
            "Epoch 14/100\n",
            "31/31 [==============================] - 1s 32ms/step - loss: 10.7520 - lr: 4.4668e-08\n",
            "Epoch 15/100\n",
            "31/31 [==============================] - 1s 34ms/step - loss: 10.6519 - lr: 5.0119e-08\n",
            "Epoch 16/100\n",
            "31/31 [==============================] - 1s 33ms/step - loss: 10.5266 - lr: 5.6234e-08\n",
            "Epoch 17/100\n",
            "31/31 [==============================] - 1s 32ms/step - loss: 10.3701 - lr: 6.3096e-08\n",
            "Epoch 18/100\n",
            "31/31 [==============================] - 1s 33ms/step - loss: 10.1387 - lr: 7.0795e-08\n",
            "Epoch 19/100\n",
            "31/31 [==============================] - 1s 33ms/step - loss: 9.9330 - lr: 7.9433e-08\n",
            "Epoch 20/100\n",
            "31/31 [==============================] - 1s 32ms/step - loss: 9.8366 - lr: 8.9125e-08\n",
            "Epoch 21/100\n",
            "31/31 [==============================] - 1s 32ms/step - loss: 9.7327 - lr: 1.0000e-07\n",
            "Epoch 22/100\n",
            "31/31 [==============================] - 1s 32ms/step - loss: 9.6227 - lr: 1.1220e-07\n",
            "Epoch 23/100\n",
            "31/31 [==============================] - 1s 33ms/step - loss: 9.5156 - lr: 1.2589e-07\n",
            "Epoch 24/100\n",
            "31/31 [==============================] - 1s 32ms/step - loss: 9.3833 - lr: 1.4125e-07\n",
            "Epoch 25/100\n",
            "31/31 [==============================] - 1s 34ms/step - loss: 9.2609 - lr: 1.5849e-07\n",
            "Epoch 26/100\n",
            "31/31 [==============================] - 1s 34ms/step - loss: 9.1241 - lr: 1.7783e-07\n",
            "Epoch 27/100\n",
            "31/31 [==============================] - 1s 33ms/step - loss: 8.9556 - lr: 1.9953e-07\n",
            "Epoch 28/100\n",
            "31/31 [==============================] - 1s 33ms/step - loss: 8.7946 - lr: 2.2387e-07\n",
            "Epoch 29/100\n",
            "31/31 [==============================] - 1s 33ms/step - loss: 8.6089 - lr: 2.5119e-07\n",
            "Epoch 30/100\n",
            "31/31 [==============================] - 1s 32ms/step - loss: 8.4308 - lr: 2.8184e-07\n",
            "Epoch 31/100\n",
            "31/31 [==============================] - 1s 32ms/step - loss: 8.2689 - lr: 3.1623e-07\n",
            "Epoch 32/100\n",
            "31/31 [==============================] - 1s 32ms/step - loss: 8.0763 - lr: 3.5481e-07\n",
            "Epoch 33/100\n",
            "31/31 [==============================] - 1s 32ms/step - loss: 7.8512 - lr: 3.9811e-07\n",
            "Epoch 34/100\n",
            "31/31 [==============================] - 1s 34ms/step - loss: 7.6803 - lr: 4.4668e-07\n",
            "Epoch 35/100\n",
            "31/31 [==============================] - 1s 34ms/step - loss: 7.4887 - lr: 5.0119e-07\n",
            "Epoch 36/100\n",
            "31/31 [==============================] - 1s 33ms/step - loss: 7.3237 - lr: 5.6234e-07\n",
            "Epoch 37/100\n",
            "31/31 [==============================] - 1s 32ms/step - loss: 7.1297 - lr: 6.3096e-07\n",
            "Epoch 38/100\n",
            "31/31 [==============================] - 1s 32ms/step - loss: 6.9409 - lr: 7.0795e-07\n",
            "Epoch 39/100\n",
            "31/31 [==============================] - 1s 32ms/step - loss: 6.7567 - lr: 7.9433e-07\n",
            "Epoch 40/100\n",
            "31/31 [==============================] - 1s 33ms/step - loss: 6.5963 - lr: 8.9125e-07\n",
            "Epoch 41/100\n",
            "31/31 [==============================] - 2s 45ms/step - loss: 6.4553 - lr: 1.0000e-06\n",
            "Epoch 42/100\n",
            "31/31 [==============================] - 1s 33ms/step - loss: 6.3191 - lr: 1.1220e-06\n",
            "Epoch 43/100\n",
            "31/31 [==============================] - 1s 33ms/step - loss: 6.1481 - lr: 1.2589e-06\n",
            "Epoch 44/100\n",
            "31/31 [==============================] - 1s 33ms/step - loss: 6.0380 - lr: 1.4125e-06\n",
            "Epoch 45/100\n",
            "31/31 [==============================] - 1s 33ms/step - loss: 6.1966 - lr: 1.5849e-06\n",
            "Epoch 46/100\n",
            "31/31 [==============================] - 1s 32ms/step - loss: 5.8315 - lr: 1.7783e-06\n",
            "Epoch 47/100\n",
            "31/31 [==============================] - 1s 32ms/step - loss: 5.6761 - lr: 1.9953e-06\n",
            "Epoch 48/100\n",
            "31/31 [==============================] - 1s 32ms/step - loss: 5.5576 - lr: 2.2387e-06\n",
            "Epoch 49/100\n",
            "31/31 [==============================] - 1s 32ms/step - loss: 5.4728 - lr: 2.5119e-06\n",
            "Epoch 50/100\n",
            "31/31 [==============================] - 1s 33ms/step - loss: 5.3786 - lr: 2.8184e-06\n",
            "Epoch 51/100\n",
            "31/31 [==============================] - 1s 33ms/step - loss: 5.3629 - lr: 3.1623e-06\n",
            "Epoch 52/100\n",
            "31/31 [==============================] - 1s 33ms/step - loss: 5.3137 - lr: 3.5481e-06\n",
            "Epoch 53/100\n",
            "31/31 [==============================] - 1s 33ms/step - loss: 5.1355 - lr: 3.9811e-06\n",
            "Epoch 54/100\n",
            "31/31 [==============================] - 1s 32ms/step - loss: 5.1831 - lr: 4.4668e-06\n",
            "Epoch 55/100\n",
            "31/31 [==============================] - 1s 33ms/step - loss: 5.1252 - lr: 5.0119e-06\n",
            "Epoch 56/100\n",
            "31/31 [==============================] - 1s 33ms/step - loss: 5.0178 - lr: 5.6234e-06\n",
            "Epoch 57/100\n",
            "31/31 [==============================] - 1s 33ms/step - loss: 4.9554 - lr: 6.3096e-06\n",
            "Epoch 58/100\n",
            "31/31 [==============================] - 1s 33ms/step - loss: 5.0515 - lr: 7.0795e-06\n",
            "Epoch 59/100\n",
            "31/31 [==============================] - 1s 34ms/step - loss: 4.8153 - lr: 7.9433e-06\n",
            "Epoch 60/100\n",
            "31/31 [==============================] - 1s 32ms/step - loss: 4.8848 - lr: 8.9125e-06\n",
            "Epoch 61/100\n",
            "31/31 [==============================] - 1s 33ms/step - loss: 4.8988 - lr: 1.0000e-05\n",
            "Epoch 62/100\n",
            "31/31 [==============================] - 1s 33ms/step - loss: 4.8415 - lr: 1.1220e-05\n",
            "Epoch 63/100\n",
            "31/31 [==============================] - 1s 32ms/step - loss: 4.9504 - lr: 1.2589e-05\n",
            "Epoch 64/100\n",
            "31/31 [==============================] - 1s 32ms/step - loss: 5.1850 - lr: 1.4125e-05\n",
            "Epoch 65/100\n",
            "31/31 [==============================] - 1s 32ms/step - loss: 5.3199 - lr: 1.5849e-05\n",
            "Epoch 66/100\n",
            "31/31 [==============================] - 1s 33ms/step - loss: 6.0296 - lr: 1.7783e-05\n",
            "Epoch 67/100\n",
            "31/31 [==============================] - 1s 33ms/step - loss: 6.2746 - lr: 1.9953e-05\n",
            "Epoch 68/100\n",
            "31/31 [==============================] - 1s 32ms/step - loss: 4.7619 - lr: 2.2387e-05\n",
            "Epoch 69/100\n",
            "31/31 [==============================] - 1s 33ms/step - loss: 4.9748 - lr: 2.5119e-05\n",
            "Epoch 70/100\n",
            "31/31 [==============================] - 2s 61ms/step - loss: 5.8417 - lr: 2.8184e-05\n",
            "Epoch 71/100\n",
            "31/31 [==============================] - 2s 49ms/step - loss: 4.7509 - lr: 3.1623e-05\n",
            "Epoch 72/100\n",
            "31/31 [==============================] - 1s 33ms/step - loss: 5.3116 - lr: 3.5481e-05\n",
            "Epoch 73/100\n",
            "31/31 [==============================] - 1s 33ms/step - loss: 5.1060 - lr: 3.9811e-05\n",
            "Epoch 74/100\n",
            "31/31 [==============================] - 1s 38ms/step - loss: 5.2938 - lr: 4.4668e-05\n",
            "Epoch 75/100\n",
            "31/31 [==============================] - 1s 33ms/step - loss: 5.7529 - lr: 5.0119e-05\n",
            "Epoch 76/100\n",
            "31/31 [==============================] - 1s 33ms/step - loss: 6.0466 - lr: 5.6234e-05\n",
            "Epoch 77/100\n",
            "31/31 [==============================] - 1s 33ms/step - loss: 6.0187 - lr: 6.3096e-05\n",
            "Epoch 78/100\n",
            "31/31 [==============================] - 1s 33ms/step - loss: 7.7165 - lr: 7.0795e-05\n",
            "Epoch 79/100\n",
            "31/31 [==============================] - 1s 35ms/step - loss: 5.7630 - lr: 7.9433e-05\n",
            "Epoch 80/100\n",
            "31/31 [==============================] - 1s 33ms/step - loss: 5.3035 - lr: 8.9125e-05\n",
            "Epoch 81/100\n",
            "31/31 [==============================] - 2s 67ms/step - loss: 6.6141 - lr: 1.0000e-04\n",
            "Epoch 82/100\n",
            "31/31 [==============================] - 1s 33ms/step - loss: 7.4908 - lr: 1.1220e-04\n",
            "Epoch 83/100\n",
            "31/31 [==============================] - 1s 33ms/step - loss: 7.1775 - lr: 1.2589e-04\n",
            "Epoch 84/100\n",
            "31/31 [==============================] - 1s 32ms/step - loss: 8.1849 - lr: 1.4125e-04\n",
            "Epoch 85/100\n",
            "31/31 [==============================] - 1s 32ms/step - loss: 6.7778 - lr: 1.5849e-04\n",
            "Epoch 86/100\n",
            "31/31 [==============================] - 1s 34ms/step - loss: 8.4797 - lr: 1.7783e-04\n",
            "Epoch 87/100\n",
            "31/31 [==============================] - 1s 33ms/step - loss: 6.7427 - lr: 1.9953e-04\n",
            "Epoch 88/100\n",
            "31/31 [==============================] - 1s 33ms/step - loss: 6.5661 - lr: 2.2387e-04\n",
            "Epoch 89/100\n",
            "31/31 [==============================] - 1s 33ms/step - loss: 6.3949 - lr: 2.5119e-04\n",
            "Epoch 90/100\n",
            "31/31 [==============================] - 1s 33ms/step - loss: 8.5238 - lr: 2.8184e-04\n",
            "Epoch 91/100\n",
            "31/31 [==============================] - 1s 33ms/step - loss: 9.8012 - lr: 3.1623e-04\n",
            "Epoch 92/100\n",
            "31/31 [==============================] - 1s 33ms/step - loss: 8.3512 - lr: 3.5481e-04\n",
            "Epoch 93/100\n",
            "31/31 [==============================] - 1s 33ms/step - loss: 7.7453 - lr: 3.9811e-04\n",
            "Epoch 94/100\n",
            "31/31 [==============================] - 1s 32ms/step - loss: 8.0872 - lr: 4.4668e-04\n",
            "Epoch 95/100\n",
            "31/31 [==============================] - 1s 33ms/step - loss: 8.3655 - lr: 5.0119e-04\n",
            "Epoch 96/100\n",
            "31/31 [==============================] - 1s 33ms/step - loss: 9.3775 - lr: 5.6234e-04\n",
            "Epoch 97/100\n",
            "31/31 [==============================] - 1s 33ms/step - loss: 11.2501 - lr: 6.3096e-04\n",
            "Epoch 98/100\n",
            "31/31 [==============================] - 1s 33ms/step - loss: 13.0294 - lr: 7.0795e-04\n",
            "Epoch 99/100\n",
            "31/31 [==============================] - 1s 33ms/step - loss: 13.8926 - lr: 7.9433e-04\n",
            "Epoch 100/100\n",
            "31/31 [==============================] - 1s 33ms/step - loss: 13.2970 - lr: 8.9125e-04\n"
          ]
        }
      ],
      "source": [
        "# Set the learning rate scheduler\n",
        "lr_schedule = tf.keras.callbacks.LearningRateScheduler(\n",
        "    lambda epoch: 1e-8 * 10**(epoch / 20))\n",
        "\n",
        "# Initialize the optimizer\n",
        "optimizer = tf.keras.optimizers.SGD(momentum=0.9)\n",
        "\n",
        "# Set the training parameters\n",
        "model_tune.compile(loss=tf.keras.losses.Huber(), optimizer=optimizer)\n",
        "\n",
        "# Train the model\n",
        "history = model_tune.fit(dataset, epochs=100, callbacks=[lr_schedule])"
      ]
    },
    {
      "cell_type": "code",
      "execution_count": 10,
      "metadata": {
        "id": "AkBsrsXMzoWR",
        "colab": {
          "base_uri": "https://localhost:8080/",
          "height": 405
        },
        "outputId": "c8e6a399-5335-4015-a93b-e383c49b3cf3"
      },
      "outputs": [
        {
          "output_type": "execute_result",
          "data": {
            "text/plain": [
              "(1e-08, 0.001, 0.0, 30.0)"
            ]
          },
          "metadata": {},
          "execution_count": 10
        },
        {
          "output_type": "display_data",
          "data": {
            "text/plain": [
              "<Figure size 720x432 with 1 Axes>"
            ],
            "image/png": "[encoded data removed]"
          },
          "metadata": {
            "needs_background": "light"
          }
        }
      ],
      "source": [
        "# Define the learning rate array\n",
        "lrs = 1e-8 * (10 ** (np.arange(100) / 20))\n",
        "\n",
        "# Set the figure size\n",
        "plt.figure(figsize=(10, 6))\n",
        "\n",
        "# Set the grid\n",
        "plt.grid(True)\n",
        "\n",
        "# Plot the loss in log scale\n",
        "plt.semilogx(lrs, history.history[\"loss\"])\n",
        "\n",
        "# Increase the tickmarks size\n",
        "plt.tick_params('both', length=10, width=1, which='both')\n",
        "\n",
        "# Set the plot boundaries\n",
        "plt.axis([1e-8, 1e-3, 0, 30])"
      ]
    },
    {
      "cell_type": "markdown",
      "metadata": {
        "id": "i-lKNp4pq_w8"
      },
      "source": [
        "## Train the Model\n",
        "\n",
        "You can then proceed to train the model with your chosen learning rate. \n",
        "\n",
        "*Tip: When experimenting and you find yourself running different iterations of a model, you may want to use the [`clear_session()`](https://www.tensorflow.org/api_docs/python/tf/keras/backend/clear_session) method to declutter memory used by Keras. This is added in the first line below.*\n"
      ]
    },
    {
      "cell_type": "code",
      "execution_count": 11,
      "metadata": {
        "id": "4uh-97bpLZCA",
        "colab": {
          "base_uri": "https://localhost:8080/"
        },
        "outputId": "44b9b71f-5126-4e51-ba86-56437d87695b"
      },
      "outputs": [
        {
          "output_type": "stream",
          "name": "stdout",
          "text": [
            "Epoch 1/100\n",
            "31/31 [==============================] - 9s 34ms/step - loss: 26.0227 - mae: 26.5202\n",
            "Epoch 2/100\n",
            "31/31 [==============================] - 1s 34ms/step - loss: 11.7470 - mae: 12.2376\n",
            "Epoch 3/100\n",
            "31/31 [==============================] - 1s 34ms/step - loss: 7.7818 - mae: 8.2651\n",
            "Epoch 4/100\n",
            "31/31 [==============================] - 1s 33ms/step - loss: 7.3906 - mae: 7.8694\n",
            "Epoch 5/100\n",
            "31/31 [==============================] - 1s 33ms/step - loss: 7.2037 - mae: 7.6865\n",
            "Epoch 6/100\n",
            "31/31 [==============================] - 1s 33ms/step - loss: 7.0506 - mae: 7.5308\n",
            "Epoch 7/100\n",
            "31/31 [==============================] - 1s 32ms/step - loss: 7.0830 - mae: 7.5647\n",
            "Epoch 8/100\n",
            "31/31 [==============================] - 1s 32ms/step - loss: 6.6484 - mae: 7.1287\n",
            "Epoch 9/100\n",
            "31/31 [==============================] - 1s 33ms/step - loss: 6.6403 - mae: 7.1211\n",
            "Epoch 10/100\n",
            "31/31 [==============================] - 1s 33ms/step - loss: 6.3737 - mae: 6.8562\n",
            "Epoch 11/100\n",
            "31/31 [==============================] - 1s 34ms/step - loss: 6.2799 - mae: 6.7607\n",
            "Epoch 12/100\n",
            "31/31 [==============================] - 1s 34ms/step - loss: 6.1646 - mae: 6.6472\n",
            "Epoch 13/100\n",
            "31/31 [==============================] - 1s 35ms/step - loss: 6.0626 - mae: 6.5404\n",
            "Epoch 14/100\n",
            "31/31 [==============================] - 1s 33ms/step - loss: 5.9643 - mae: 6.4440\n",
            "Epoch 15/100\n",
            "31/31 [==============================] - 1s 34ms/step - loss: 5.8403 - mae: 6.3192\n",
            "Epoch 16/100\n",
            "31/31 [==============================] - 1s 33ms/step - loss: 5.9318 - mae: 6.4136\n",
            "Epoch 17/100\n",
            "31/31 [==============================] - 1s 33ms/step - loss: 5.9118 - mae: 6.3927\n",
            "Epoch 18/100\n",
            "31/31 [==============================] - 1s 33ms/step - loss: 5.6058 - mae: 6.0832\n",
            "Epoch 19/100\n",
            "31/31 [==============================] - 1s 33ms/step - loss: 5.5859 - mae: 6.0645\n",
            "Epoch 20/100\n",
            "31/31 [==============================] - 1s 34ms/step - loss: 5.5421 - mae: 6.0214\n",
            "Epoch 21/100\n",
            "31/31 [==============================] - 1s 33ms/step - loss: 5.6630 - mae: 6.1416\n",
            "Epoch 22/100\n",
            "31/31 [==============================] - 1s 33ms/step - loss: 5.5563 - mae: 6.0324\n",
            "Epoch 23/100\n",
            "31/31 [==============================] - 1s 32ms/step - loss: 5.4034 - mae: 5.8845\n",
            "Epoch 24/100\n",
            "31/31 [==============================] - 1s 33ms/step - loss: 5.5539 - mae: 6.0326\n",
            "Epoch 25/100\n",
            "31/31 [==============================] - 1s 34ms/step - loss: 5.4081 - mae: 5.8856\n",
            "Epoch 26/100\n",
            "31/31 [==============================] - 1s 34ms/step - loss: 5.3262 - mae: 5.8057\n",
            "Epoch 27/100\n",
            "31/31 [==============================] - 1s 33ms/step - loss: 5.2588 - mae: 5.7337\n",
            "Epoch 28/100\n",
            "31/31 [==============================] - 1s 34ms/step - loss: 5.2577 - mae: 5.7377\n",
            "Epoch 29/100\n",
            "31/31 [==============================] - 1s 34ms/step - loss: 5.2744 - mae: 5.7525\n",
            "Epoch 30/100\n",
            "31/31 [==============================] - 1s 32ms/step - loss: 5.1489 - mae: 5.6291\n",
            "Epoch 31/100\n",
            "31/31 [==============================] - 1s 33ms/step - loss: 5.2168 - mae: 5.6946\n",
            "Epoch 32/100\n",
            "31/31 [==============================] - 1s 33ms/step - loss: 5.1456 - mae: 5.6240\n",
            "Epoch 33/100\n",
            "31/31 [==============================] - 1s 34ms/step - loss: 5.0966 - mae: 5.5761\n",
            "Epoch 34/100\n",
            "31/31 [==============================] - 1s 34ms/step - loss: 5.0742 - mae: 5.5499\n",
            "Epoch 35/100\n",
            "31/31 [==============================] - 1s 34ms/step - loss: 5.1051 - mae: 5.5852\n",
            "Epoch 36/100\n",
            "31/31 [==============================] - 1s 34ms/step - loss: 5.0328 - mae: 5.5080\n",
            "Epoch 37/100\n",
            "31/31 [==============================] - 1s 34ms/step - loss: 5.1458 - mae: 5.6256\n",
            "Epoch 38/100\n",
            "31/31 [==============================] - 1s 34ms/step - loss: 5.0650 - mae: 5.5395\n",
            "Epoch 39/100\n",
            "31/31 [==============================] - 1s 33ms/step - loss: 5.0419 - mae: 5.5175\n",
            "Epoch 40/100\n",
            "31/31 [==============================] - 1s 34ms/step - loss: 4.9178 - mae: 5.3916\n",
            "Epoch 41/100\n",
            "31/31 [==============================] - 1s 33ms/step - loss: 4.9606 - mae: 5.4367\n",
            "Epoch 42/100\n",
            "31/31 [==============================] - 1s 34ms/step - loss: 4.8511 - mae: 5.3314\n",
            "Epoch 43/100\n",
            "31/31 [==============================] - 1s 33ms/step - loss: 4.7967 - mae: 5.2742\n",
            "Epoch 44/100\n",
            "31/31 [==============================] - 1s 36ms/step - loss: 4.7830 - mae: 5.2601\n",
            "Epoch 45/100\n",
            "31/31 [==============================] - 1s 34ms/step - loss: 4.8537 - mae: 5.3305\n",
            "Epoch 46/100\n",
            "31/31 [==============================] - 1s 34ms/step - loss: 4.8974 - mae: 5.3746\n",
            "Epoch 47/100\n",
            "31/31 [==============================] - 1s 33ms/step - loss: 4.7783 - mae: 5.2566\n",
            "Epoch 48/100\n",
            "31/31 [==============================] - 1s 32ms/step - loss: 4.8190 - mae: 5.2919\n",
            "Epoch 49/100\n",
            "31/31 [==============================] - 1s 34ms/step - loss: 4.8110 - mae: 5.2891\n",
            "Epoch 50/100\n",
            "31/31 [==============================] - 1s 34ms/step - loss: 4.6749 - mae: 5.1517\n",
            "Epoch 51/100\n",
            "31/31 [==============================] - 1s 33ms/step - loss: 4.7101 - mae: 5.1836\n",
            "Epoch 52/100\n",
            "31/31 [==============================] - 1s 33ms/step - loss: 4.6857 - mae: 5.1624\n",
            "Epoch 53/100\n",
            "31/31 [==============================] - 1s 35ms/step - loss: 4.9142 - mae: 5.3932\n",
            "Epoch 54/100\n",
            "31/31 [==============================] - 1s 34ms/step - loss: 4.7082 - mae: 5.1870\n",
            "Epoch 55/100\n",
            "31/31 [==============================] - 1s 33ms/step - loss: 4.7694 - mae: 5.2458\n",
            "Epoch 56/100\n",
            "31/31 [==============================] - 1s 34ms/step - loss: 4.7552 - mae: 5.2302\n",
            "Epoch 57/100\n",
            "31/31 [==============================] - 1s 34ms/step - loss: 4.7767 - mae: 5.2549\n",
            "Epoch 58/100\n",
            "31/31 [==============================] - 1s 34ms/step - loss: 4.6891 - mae: 5.1603\n",
            "Epoch 59/100\n",
            "31/31 [==============================] - 1s 34ms/step - loss: 4.9437 - mae: 5.4232\n",
            "Epoch 60/100\n",
            "31/31 [==============================] - 1s 34ms/step - loss: 4.7018 - mae: 5.1784\n",
            "Epoch 61/100\n",
            "31/31 [==============================] - 1s 33ms/step - loss: 4.6858 - mae: 5.1651\n",
            "Epoch 62/100\n",
            "31/31 [==============================] - 1s 33ms/step - loss: 4.6977 - mae: 5.1765\n",
            "Epoch 63/100\n",
            "31/31 [==============================] - 1s 34ms/step - loss: 4.6583 - mae: 5.1350\n",
            "Epoch 64/100\n",
            "31/31 [==============================] - 1s 33ms/step - loss: 4.5784 - mae: 5.0546\n",
            "Epoch 65/100\n",
            "31/31 [==============================] - 1s 33ms/step - loss: 4.6231 - mae: 5.0979\n",
            "Epoch 66/100\n",
            "31/31 [==============================] - 1s 34ms/step - loss: 4.5305 - mae: 5.0084\n",
            "Epoch 67/100\n",
            "31/31 [==============================] - 1s 33ms/step - loss: 4.7236 - mae: 5.2029\n",
            "Epoch 68/100\n",
            "31/31 [==============================] - 1s 34ms/step - loss: 4.8263 - mae: 5.3067\n",
            "Epoch 69/100\n",
            "31/31 [==============================] - 1s 33ms/step - loss: 4.6092 - mae: 5.0869\n",
            "Epoch 70/100\n",
            "31/31 [==============================] - 1s 34ms/step - loss: 4.6579 - mae: 5.1341\n",
            "Epoch 71/100\n",
            "31/31 [==============================] - 1s 33ms/step - loss: 4.7080 - mae: 5.1856\n",
            "Epoch 72/100\n",
            "31/31 [==============================] - 1s 33ms/step - loss: 4.6588 - mae: 5.1360\n",
            "Epoch 73/100\n",
            "31/31 [==============================] - 1s 34ms/step - loss: 4.5306 - mae: 5.0063\n",
            "Epoch 74/100\n",
            "31/31 [==============================] - 1s 34ms/step - loss: 4.5671 - mae: 5.0467\n",
            "Epoch 75/100\n",
            "31/31 [==============================] - 1s 33ms/step - loss: 4.6639 - mae: 5.1428\n",
            "Epoch 76/100\n",
            "31/31 [==============================] - 1s 35ms/step - loss: 4.5615 - mae: 5.0406\n",
            "Epoch 77/100\n",
            "31/31 [==============================] - 1s 35ms/step - loss: 4.7534 - mae: 5.2300\n",
            "Epoch 78/100\n",
            "31/31 [==============================] - 1s 35ms/step - loss: 4.6724 - mae: 5.1512\n",
            "Epoch 79/100\n",
            "31/31 [==============================] - 1s 33ms/step - loss: 4.9505 - mae: 5.4306\n",
            "Epoch 80/100\n",
            "31/31 [==============================] - 1s 33ms/step - loss: 4.6416 - mae: 5.1191\n",
            "Epoch 81/100\n",
            "31/31 [==============================] - 1s 33ms/step - loss: 4.5920 - mae: 5.0678\n",
            "Epoch 82/100\n",
            "31/31 [==============================] - 1s 34ms/step - loss: 4.6449 - mae: 5.1194\n",
            "Epoch 83/100\n",
            "31/31 [==============================] - 1s 33ms/step - loss: 4.6418 - mae: 5.1188\n",
            "Epoch 84/100\n",
            "31/31 [==============================] - 1s 35ms/step - loss: 4.6285 - mae: 5.1086\n",
            "Epoch 85/100\n",
            "31/31 [==============================] - 1s 35ms/step - loss: 4.4749 - mae: 4.9516\n",
            "Epoch 86/100\n",
            "31/31 [==============================] - 1s 35ms/step - loss: 4.5361 - mae: 5.0126\n",
            "Epoch 87/100\n",
            "31/31 [==============================] - 1s 33ms/step - loss: 4.5828 - mae: 5.0573\n",
            "Epoch 88/100\n",
            "31/31 [==============================] - 1s 35ms/step - loss: 4.5288 - mae: 5.0060\n",
            "Epoch 89/100\n",
            "31/31 [==============================] - 1s 34ms/step - loss: 4.5028 - mae: 4.9811\n",
            "Epoch 90/100\n",
            "31/31 [==============================] - 1s 34ms/step - loss: 4.4714 - mae: 4.9488\n",
            "Epoch 91/100\n",
            "31/31 [==============================] - 1s 33ms/step - loss: 4.6165 - mae: 5.0931\n",
            "Epoch 92/100\n",
            "31/31 [==============================] - 1s 36ms/step - loss: 4.6040 - mae: 5.0788\n",
            "Epoch 93/100\n",
            "31/31 [==============================] - 1s 33ms/step - loss: 4.6145 - mae: 5.0871\n",
            "Epoch 94/100\n",
            "31/31 [==============================] - 1s 34ms/step - loss: 4.7074 - mae: 5.1819\n",
            "Epoch 95/100\n",
            "31/31 [==============================] - 1s 33ms/step - loss: 4.6379 - mae: 5.1136\n",
            "Epoch 96/100\n",
            "31/31 [==============================] - 1s 34ms/step - loss: 4.6584 - mae: 5.1363\n",
            "Epoch 97/100\n",
            "31/31 [==============================] - 1s 33ms/step - loss: 4.5373 - mae: 5.0092\n",
            "Epoch 98/100\n",
            "31/31 [==============================] - 1s 34ms/step - loss: 4.5684 - mae: 5.0427\n",
            "Epoch 99/100\n",
            "31/31 [==============================] - 1s 33ms/step - loss: 4.4698 - mae: 4.9468\n",
            "Epoch 100/100\n",
            "31/31 [==============================] - 1s 34ms/step - loss: 4.5537 - mae: 5.0293\n"
          ]
        }
      ],
      "source": [
        "# Reset states generated by Keras\n",
        "tf.keras.backend.clear_session()\n",
        "\n",
        "# Build the model\n",
        "model = tf.keras.models.Sequential([\n",
        "  tf.keras.layers.Lambda(lambda x: tf.expand_dims(x, axis=-1),\n",
        "                      input_shape=[None]),\n",
        "   tf.keras.layers.Bidirectional(tf.keras.layers.LSTM(32, return_sequences=True)),\n",
        "  tf.keras.layers.Bidirectional(tf.keras.layers.LSTM(32)),\n",
        "  tf.keras.layers.Dense(1),\n",
        "  tf.keras.layers.Lambda(lambda x: x * 100.0)\n",
        "])\n",
        "\n",
        "# Set the learning rate\n",
        "learning_rate = 2e-6\n",
        "\n",
        "# Set the optimizer \n",
        "optimizer = tf.keras.optimizers.SGD(learning_rate=learning_rate, momentum=0.9)\n",
        "\n",
        "# Set the training parameters\n",
        "model.compile(loss=tf.keras.losses.Huber(),\n",
        "              optimizer=optimizer,\n",
        "              metrics=[\"mae\"])\n",
        "\n",
        "# Train the model\n",
        "history = model.fit(dataset,epochs=100)"
      ]
    },
    {
      "cell_type": "markdown",
      "metadata": {
        "id": "RjP4kbGiI7cw"
      },
      "source": [
        "## Model Prediction\n",
        "\n",
        "You will then generate batches of windows to generate predictions that align with the validation set."
      ]
    },
    {
      "cell_type": "code",
      "execution_count": 12,
      "metadata": {
        "id": "QO8cfKwKBBG6"
      },
      "outputs": [],
      "source": [
        "def model_forecast(model, series, window_size, batch_size):\n",
        "    \"\"\"Uses an input model to generate predictions on data windows\n",
        "\n",
        "    Args:\n",
        "      model (TF Keras Model) - model that accepts data windows\n",
        "      series (array of float) - contains the values of the time series\n",
        "      window_size (int) - the number of time steps to include in the window\n",
        "      batch_size (int) - the batch size\n",
        "\n",
        "    Returns:\n",
        "      forecast (numpy array) - array containing predictions\n",
        "    \"\"\"\n",
        "\n",
        "    # Generate a TF Dataset from the series values\n",
        "    dataset = tf.data.Dataset.from_tensor_slices(series)\n",
        "\n",
        "    # Window the data but only take those with the specified size\n",
        "    dataset = dataset.window(window_size, shift=1, drop_remainder=True)\n",
        "\n",
        "    # Flatten the windows by putting its elements in a single batch\n",
        "    dataset = dataset.flat_map(lambda w: w.batch(window_size))\n",
        "    \n",
        "    # Create batches of windows\n",
        "    dataset = dataset.batch(batch_size).prefetch(1)\n",
        "    \n",
        "    # Get predictions on the entire dataset\n",
        "    forecast = model.predict(dataset)\n",
        "    \n",
        "    return forecast"
      ]
    },
    {
      "cell_type": "code",
      "execution_count": 13,
      "metadata": {
        "id": "_plB3UseBD8o",
        "colab": {
          "base_uri": "https://localhost:8080/",
          "height": 405
        },
        "outputId": "fb5a8cd6-6548-42b0-a9f6-56f20007d143"
      },
      "outputs": [
        {
          "output_type": "stream",
          "name": "stdout",
          "text": [
            "15/15 [==============================] - 2s 16ms/step\n"
          ]
        },
        {
          "output_type": "display_data",
          "data": {
            "text/plain": [
              "<Figure size 720x432 with 1 Axes>"
            ],
            "image/png": "[encoded data removed]"
          },
          "metadata": {
            "needs_background": "light"
          }
        }
      ],
      "source": [
        "# Reduce the original series\n",
        "forecast_series = series[split_time-window_size:-1]\n",
        "\n",
        "# Use helper function to generate predictions\n",
        "forecast = model_forecast(model, forecast_series, window_size, batch_size)\n",
        "\n",
        "# Drop single dimensional axis\n",
        "results = forecast.squeeze()\n",
        "\n",
        "# Plot the results\n",
        "plot_series(time_valid, (x_valid, results))"
      ]
    },
    {
      "cell_type": "markdown",
      "metadata": {
        "id": "Nn8iSQkZtaRC"
      },
      "source": [
        "You can then generate the metrics to evaluate the model's performance."
      ]
    },
    {
      "cell_type": "code",
      "execution_count": 14,
      "metadata": {
        "id": "-IKhueZaBGID",
        "colab": {
          "base_uri": "https://localhost:8080/"
        },
        "outputId": "ee7350b4-d560-4074-d395-5d19fc2bfd9d"
      },
      "outputs": [
        {
          "output_type": "stream",
          "name": "stdout",
          "text": [
            "84.42416\n",
            "6.625329\n"
          ]
        }
      ],
      "source": [
        "# Compute the MSE and MAE\n",
        "print(tf.keras.metrics.mean_squared_error(x_valid, results).numpy())\n",
        "print(tf.keras.metrics.mean_absolute_error(x_valid, results).numpy())"
      ]
    },
    {
      "cell_type": "markdown",
      "metadata": {
        "id": "bzPIqeMWvbPy"
      },
      "source": [
        "## Wrap Up\n",
        "\n",
        "This concludes this short exercise on using LSTMs for time series forecasting. Next week, you will build upon this and add convolutions. Then, you will start to move away from synthetic data and use real-world datasets. See you there!"
      ]
    },
    {
      "cell_type": "markdown",
      "metadata": {
        "id": "U5PqTePGHeMH"
      },
      "source": [
        "## Optional: Including a Validation Set while Training\n",
        "\n",
        "Back in the first course of this specialization, you saw how you can also monitor the performance of your model against a validation set while training. You can also do that for this lab. \n",
        "\n",
        "First, you need to generate a `val_set` which are data windows and labels that your model can accept. You can simply reuse the `windowed_dataset` function for that and you can pass in the `x_valid` points to generate the windows."
      ]
    },
    {
      "cell_type": "code",
      "execution_count": 15,
      "metadata": {
        "id": "kvFVwL3PC4iX"
      },
      "outputs": [],
      "source": [
        "# Generate data windows of the validation set\n",
        "val_set = windowed_dataset(x_valid, window_size, batch_size, shuffle_buffer_size)"
      ]
    },
    {
      "cell_type": "markdown",
      "metadata": {
        "id": "p68j6XxEvP9K"
      },
      "source": [
        "You can then do the same training as before but pass in the `val_set` to the `validation_data` parameter of the `fit()` method."
      ]
    },
    {
      "cell_type": "code",
      "execution_count": 16,
      "metadata": {
        "id": "wujKz6tXDSn0",
        "colab": {
          "base_uri": "https://localhost:8080/"
        },
        "outputId": "92abf1cf-34fb-4ae5-aa0c-36e436c40772"
      },
      "outputs": [
        {
          "output_type": "stream",
          "name": "stdout",
          "text": [
            "Epoch 1/100\n",
            "31/31 [==============================] - 12s 133ms/step - loss: 51.8915 - mae: 52.3883 - val_loss: 12.8322 - val_mae: 13.3261\n",
            "Epoch 2/100\n",
            "31/31 [==============================] - 1s 40ms/step - loss: 11.1408 - mae: 11.6305 - val_loss: 18.9519 - val_mae: 19.4473\n",
            "Epoch 3/100\n",
            "31/31 [==============================] - 1s 42ms/step - loss: 7.4186 - mae: 7.9029 - val_loss: 13.1637 - val_mae: 13.6579\n",
            "Epoch 4/100\n",
            "31/31 [==============================] - 1s 39ms/step - loss: 6.8697 - mae: 7.3528 - val_loss: 12.8656 - val_mae: 13.3553\n",
            "Epoch 5/100\n",
            "31/31 [==============================] - 1s 41ms/step - loss: 6.6031 - mae: 7.0863 - val_loss: 12.0028 - val_mae: 12.4967\n",
            "Epoch 6/100\n",
            "31/31 [==============================] - 1s 39ms/step - loss: 6.4643 - mae: 6.9455 - val_loss: 11.8849 - val_mae: 12.3788\n",
            "Epoch 7/100\n",
            "31/31 [==============================] - 1s 40ms/step - loss: 6.3346 - mae: 6.8140 - val_loss: 10.9612 - val_mae: 11.4526\n",
            "Epoch 8/100\n",
            "31/31 [==============================] - 1s 40ms/step - loss: 6.2193 - mae: 6.6967 - val_loss: 10.7524 - val_mae: 11.2441\n",
            "Epoch 9/100\n",
            "31/31 [==============================] - 1s 40ms/step - loss: 6.1334 - mae: 6.6135 - val_loss: 11.2790 - val_mae: 11.7706\n",
            "Epoch 10/100\n",
            "31/31 [==============================] - 1s 40ms/step - loss: 6.1064 - mae: 6.5854 - val_loss: 9.2778 - val_mae: 9.7639\n",
            "Epoch 11/100\n",
            "31/31 [==============================] - 1s 39ms/step - loss: 5.9729 - mae: 6.4526 - val_loss: 10.1834 - val_mae: 10.6766\n",
            "Epoch 12/100\n",
            "31/31 [==============================] - 1s 41ms/step - loss: 5.8397 - mae: 6.3150 - val_loss: 9.5413 - val_mae: 10.0291\n",
            "Epoch 13/100\n",
            "31/31 [==============================] - 1s 42ms/step - loss: 5.7924 - mae: 6.2704 - val_loss: 9.1732 - val_mae: 9.6596\n",
            "Epoch 14/100\n",
            "31/31 [==============================] - 1s 40ms/step - loss: 5.7675 - mae: 6.2490 - val_loss: 8.5621 - val_mae: 9.0473\n",
            "Epoch 15/100\n",
            "31/31 [==============================] - 1s 40ms/step - loss: 5.8050 - mae: 6.2803 - val_loss: 9.5474 - val_mae: 10.0395\n",
            "Epoch 16/100\n",
            "31/31 [==============================] - 1s 40ms/step - loss: 5.6130 - mae: 6.0900 - val_loss: 8.0613 - val_mae: 8.5444\n",
            "Epoch 17/100\n",
            "31/31 [==============================] - 1s 39ms/step - loss: 5.4675 - mae: 5.9435 - val_loss: 7.4404 - val_mae: 7.9276\n",
            "Epoch 18/100\n",
            "31/31 [==============================] - 1s 41ms/step - loss: 5.5151 - mae: 5.9951 - val_loss: 7.3303 - val_mae: 7.8143\n",
            "Epoch 19/100\n",
            "31/31 [==============================] - 1s 40ms/step - loss: 5.3196 - mae: 5.7956 - val_loss: 7.2598 - val_mae: 7.7433\n",
            "Epoch 20/100\n",
            "31/31 [==============================] - 1s 40ms/step - loss: 5.2901 - mae: 5.7615 - val_loss: 7.1753 - val_mae: 7.6587\n",
            "Epoch 21/100\n",
            "31/31 [==============================] - 1s 39ms/step - loss: 5.2595 - mae: 5.7343 - val_loss: 7.2681 - val_mae: 7.7491\n",
            "Epoch 22/100\n",
            "31/31 [==============================] - 1s 40ms/step - loss: 5.2706 - mae: 5.7460 - val_loss: 7.5852 - val_mae: 8.0695\n",
            "Epoch 23/100\n",
            "31/31 [==============================] - 1s 40ms/step - loss: 5.2247 - mae: 5.7003 - val_loss: 8.1143 - val_mae: 8.6009\n",
            "Epoch 24/100\n",
            "31/31 [==============================] - 1s 40ms/step - loss: 5.1620 - mae: 5.6359 - val_loss: 7.0659 - val_mae: 7.5456\n",
            "Epoch 25/100\n",
            "31/31 [==============================] - 1s 39ms/step - loss: 5.0653 - mae: 5.5409 - val_loss: 6.8612 - val_mae: 7.3435\n",
            "Epoch 26/100\n",
            "31/31 [==============================] - 1s 41ms/step - loss: 5.0703 - mae: 5.5476 - val_loss: 6.9793 - val_mae: 7.4584\n",
            "Epoch 27/100\n",
            "31/31 [==============================] - 1s 41ms/step - loss: 4.9953 - mae: 5.4713 - val_loss: 6.4566 - val_mae: 6.9424\n",
            "Epoch 28/100\n",
            "31/31 [==============================] - 1s 39ms/step - loss: 5.0211 - mae: 5.4964 - val_loss: 7.8740 - val_mae: 8.3623\n",
            "Epoch 29/100\n",
            "31/31 [==============================] - 1s 41ms/step - loss: 5.0282 - mae: 5.5031 - val_loss: 8.3607 - val_mae: 8.8476\n",
            "Epoch 30/100\n",
            "31/31 [==============================] - 1s 39ms/step - loss: 5.2947 - mae: 5.7752 - val_loss: 8.0806 - val_mae: 8.5718\n",
            "Epoch 31/100\n",
            "31/31 [==============================] - 1s 40ms/step - loss: 4.9383 - mae: 5.4157 - val_loss: 6.4372 - val_mae: 6.9222\n",
            "Epoch 32/100\n",
            "31/31 [==============================] - 1s 40ms/step - loss: 5.0429 - mae: 5.5192 - val_loss: 6.0876 - val_mae: 6.5685\n",
            "Epoch 33/100\n",
            "31/31 [==============================] - 1s 38ms/step - loss: 4.9030 - mae: 5.3831 - val_loss: 6.1217 - val_mae: 6.6058\n",
            "Epoch 34/100\n",
            "31/31 [==============================] - 1s 39ms/step - loss: 4.9812 - mae: 5.4568 - val_loss: 6.2952 - val_mae: 6.7771\n",
            "Epoch 35/100\n",
            "31/31 [==============================] - 1s 39ms/step - loss: 4.9209 - mae: 5.3954 - val_loss: 6.1197 - val_mae: 6.6074\n",
            "Epoch 36/100\n",
            "31/31 [==============================] - 1s 40ms/step - loss: 4.8265 - mae: 5.3072 - val_loss: 6.8719 - val_mae: 7.3565\n",
            "Epoch 37/100\n",
            "31/31 [==============================] - 1s 41ms/step - loss: 4.8821 - mae: 5.3551 - val_loss: 6.8611 - val_mae: 7.3463\n",
            "Epoch 38/100\n",
            "31/31 [==============================] - 1s 42ms/step - loss: 4.8176 - mae: 5.2956 - val_loss: 6.6516 - val_mae: 7.1314\n",
            "Epoch 39/100\n",
            "31/31 [==============================] - 1s 38ms/step - loss: 4.8157 - mae: 5.2915 - val_loss: 7.2869 - val_mae: 7.7695\n",
            "Epoch 40/100\n",
            "31/31 [==============================] - 1s 40ms/step - loss: 4.8278 - mae: 5.3086 - val_loss: 6.4551 - val_mae: 6.9310\n",
            "Epoch 41/100\n",
            "31/31 [==============================] - 1s 40ms/step - loss: 4.8865 - mae: 5.3588 - val_loss: 6.7265 - val_mae: 7.2102\n",
            "Epoch 42/100\n",
            "31/31 [==============================] - 1s 41ms/step - loss: 4.7460 - mae: 5.2259 - val_loss: 6.3234 - val_mae: 6.7992\n",
            "Epoch 43/100\n",
            "31/31 [==============================] - 1s 41ms/step - loss: 4.8836 - mae: 5.3586 - val_loss: 6.2189 - val_mae: 6.6972\n",
            "Epoch 44/100\n",
            "31/31 [==============================] - 1s 39ms/step - loss: 4.7419 - mae: 5.2185 - val_loss: 6.1006 - val_mae: 6.5800\n",
            "Epoch 45/100\n",
            "31/31 [==============================] - 1s 40ms/step - loss: 4.8816 - mae: 5.3578 - val_loss: 5.7599 - val_mae: 6.2381\n",
            "Epoch 46/100\n",
            "31/31 [==============================] - 1s 39ms/step - loss: 4.7662 - mae: 5.2419 - val_loss: 6.0113 - val_mae: 6.4942\n",
            "Epoch 47/100\n",
            "31/31 [==============================] - 1s 41ms/step - loss: 4.7928 - mae: 5.2684 - val_loss: 6.8940 - val_mae: 7.3801\n",
            "Epoch 48/100\n",
            "31/31 [==============================] - 1s 39ms/step - loss: 4.6733 - mae: 5.1516 - val_loss: 6.0230 - val_mae: 6.5030\n",
            "Epoch 49/100\n",
            "31/31 [==============================] - 1s 40ms/step - loss: 4.9273 - mae: 5.4064 - val_loss: 8.1145 - val_mae: 8.6036\n",
            "Epoch 50/100\n",
            "31/31 [==============================] - 1s 39ms/step - loss: 4.9038 - mae: 5.3833 - val_loss: 6.5022 - val_mae: 6.9838\n",
            "Epoch 51/100\n",
            "31/31 [==============================] - 1s 40ms/step - loss: 4.7168 - mae: 5.1919 - val_loss: 5.6997 - val_mae: 6.1781\n",
            "Epoch 52/100\n",
            "31/31 [==============================] - 1s 41ms/step - loss: 4.6939 - mae: 5.1695 - val_loss: 6.3503 - val_mae: 6.8290\n",
            "Epoch 53/100\n",
            "31/31 [==============================] - 1s 41ms/step - loss: 4.6475 - mae: 5.1234 - val_loss: 6.1005 - val_mae: 6.5793\n",
            "Epoch 54/100\n",
            "31/31 [==============================] - 1s 40ms/step - loss: 4.6206 - mae: 5.0972 - val_loss: 6.3796 - val_mae: 6.8606\n",
            "Epoch 55/100\n",
            "31/31 [==============================] - 1s 40ms/step - loss: 4.6700 - mae: 5.1488 - val_loss: 5.6741 - val_mae: 6.1548\n",
            "Epoch 56/100\n",
            "31/31 [==============================] - 1s 40ms/step - loss: 4.6783 - mae: 5.1549 - val_loss: 5.6287 - val_mae: 6.1092\n",
            "Epoch 57/100\n",
            "31/31 [==============================] - 1s 41ms/step - loss: 4.7162 - mae: 5.1921 - val_loss: 6.0215 - val_mae: 6.5013\n",
            "Epoch 58/100\n",
            "31/31 [==============================] - 1s 40ms/step - loss: 4.6193 - mae: 5.0980 - val_loss: 6.0188 - val_mae: 6.4989\n",
            "Epoch 59/100\n",
            "31/31 [==============================] - 1s 40ms/step - loss: 4.6533 - mae: 5.1321 - val_loss: 5.7919 - val_mae: 6.2741\n",
            "Epoch 60/100\n",
            "31/31 [==============================] - 1s 40ms/step - loss: 4.5974 - mae: 5.0739 - val_loss: 5.9711 - val_mae: 6.4513\n",
            "Epoch 61/100\n",
            "31/31 [==============================] - 1s 39ms/step - loss: 4.6947 - mae: 5.1702 - val_loss: 6.3504 - val_mae: 6.8328\n",
            "Epoch 62/100\n",
            "31/31 [==============================] - 1s 40ms/step - loss: 4.7271 - mae: 5.2066 - val_loss: 5.8101 - val_mae: 6.2907\n",
            "Epoch 63/100\n",
            "31/31 [==============================] - 1s 37ms/step - loss: 4.6821 - mae: 5.1620 - val_loss: 6.4716 - val_mae: 6.9547\n",
            "Epoch 64/100\n",
            "31/31 [==============================] - 1s 40ms/step - loss: 4.6803 - mae: 5.1536 - val_loss: 7.0290 - val_mae: 7.5108\n",
            "Epoch 65/100\n",
            "31/31 [==============================] - 1s 41ms/step - loss: 4.7100 - mae: 5.1876 - val_loss: 8.0342 - val_mae: 8.5253\n",
            "Epoch 66/100\n",
            "31/31 [==============================] - 1s 40ms/step - loss: 4.6342 - mae: 5.1122 - val_loss: 6.8252 - val_mae: 7.3082\n",
            "Epoch 67/100\n",
            "31/31 [==============================] - 1s 40ms/step - loss: 4.6302 - mae: 5.1039 - val_loss: 5.4202 - val_mae: 5.9010\n",
            "Epoch 68/100\n",
            "31/31 [==============================] - 1s 40ms/step - loss: 4.8494 - mae: 5.3233 - val_loss: 5.5467 - val_mae: 6.0242\n",
            "Epoch 69/100\n",
            "31/31 [==============================] - 1s 40ms/step - loss: 4.6718 - mae: 5.1510 - val_loss: 7.2808 - val_mae: 7.7633\n",
            "Epoch 70/100\n",
            "31/31 [==============================] - 1s 40ms/step - loss: 4.6452 - mae: 5.1173 - val_loss: 5.6458 - val_mae: 6.1319\n",
            "Epoch 71/100\n",
            "31/31 [==============================] - 1s 40ms/step - loss: 4.6044 - mae: 5.0793 - val_loss: 5.7004 - val_mae: 6.1828\n",
            "Epoch 72/100\n",
            "31/31 [==============================] - 1s 41ms/step - loss: 4.7331 - mae: 5.2106 - val_loss: 5.3793 - val_mae: 5.8554\n",
            "Epoch 73/100\n",
            "31/31 [==============================] - 1s 40ms/step - loss: 4.7248 - mae: 5.2005 - val_loss: 6.4097 - val_mae: 6.8921\n",
            "Epoch 74/100\n",
            "31/31 [==============================] - 1s 39ms/step - loss: 4.6736 - mae: 5.1509 - val_loss: 7.2272 - val_mae: 7.7100\n",
            "Epoch 75/100\n",
            "31/31 [==============================] - 1s 40ms/step - loss: 4.6024 - mae: 5.0778 - val_loss: 5.3823 - val_mae: 5.8603\n",
            "Epoch 76/100\n",
            "31/31 [==============================] - 1s 41ms/step - loss: 4.5569 - mae: 5.0330 - val_loss: 5.6097 - val_mae: 6.0928\n",
            "Epoch 77/100\n",
            "31/31 [==============================] - 1s 41ms/step - loss: 4.5936 - mae: 5.0674 - val_loss: 7.0169 - val_mae: 7.4987\n",
            "Epoch 78/100\n",
            "31/31 [==============================] - 1s 42ms/step - loss: 4.5875 - mae: 5.0557 - val_loss: 6.0529 - val_mae: 6.5343\n",
            "Epoch 79/100\n",
            "31/31 [==============================] - 1s 40ms/step - loss: 4.5716 - mae: 5.0490 - val_loss: 5.6549 - val_mae: 6.1348\n",
            "Epoch 80/100\n",
            "31/31 [==============================] - 1s 40ms/step - loss: 4.5552 - mae: 5.0323 - val_loss: 7.0776 - val_mae: 7.5583\n",
            "Epoch 81/100\n",
            "31/31 [==============================] - 1s 40ms/step - loss: 4.5582 - mae: 5.0316 - val_loss: 6.5834 - val_mae: 7.0659\n",
            "Epoch 82/100\n",
            "31/31 [==============================] - 1s 40ms/step - loss: 4.5753 - mae: 5.0501 - val_loss: 5.2908 - val_mae: 5.7676\n",
            "Epoch 83/100\n",
            "31/31 [==============================] - 1s 41ms/step - loss: 4.5329 - mae: 5.0078 - val_loss: 5.2498 - val_mae: 5.7229\n",
            "Epoch 84/100\n",
            "31/31 [==============================] - 1s 40ms/step - loss: 4.6884 - mae: 5.1609 - val_loss: 6.5109 - val_mae: 6.9932\n",
            "Epoch 85/100\n",
            "31/31 [==============================] - 1s 41ms/step - loss: 4.5932 - mae: 5.0714 - val_loss: 6.1338 - val_mae: 6.6142\n",
            "Epoch 86/100\n",
            "31/31 [==============================] - 1s 41ms/step - loss: 4.5991 - mae: 5.0726 - val_loss: 7.4548 - val_mae: 7.9409\n",
            "Epoch 87/100\n",
            "31/31 [==============================] - 1s 41ms/step - loss: 4.5274 - mae: 5.0030 - val_loss: 6.2133 - val_mae: 6.6941\n",
            "Epoch 88/100\n",
            "31/31 [==============================] - 1s 41ms/step - loss: 4.6183 - mae: 5.0961 - val_loss: 5.5599 - val_mae: 6.0442\n",
            "Epoch 89/100\n",
            "31/31 [==============================] - 1s 40ms/step - loss: 4.7162 - mae: 5.1925 - val_loss: 5.2361 - val_mae: 5.7095\n",
            "Epoch 90/100\n",
            "31/31 [==============================] - 1s 40ms/step - loss: 4.5630 - mae: 5.0378 - val_loss: 5.2591 - val_mae: 5.7332\n",
            "Epoch 91/100\n",
            "31/31 [==============================] - 1s 40ms/step - loss: 4.5130 - mae: 4.9894 - val_loss: 6.5954 - val_mae: 7.0781\n",
            "Epoch 92/100\n",
            "31/31 [==============================] - 1s 41ms/step - loss: 4.5299 - mae: 5.0079 - val_loss: 5.1991 - val_mae: 5.6722\n",
            "Epoch 93/100\n",
            "31/31 [==============================] - 1s 40ms/step - loss: 4.5821 - mae: 5.0545 - val_loss: 5.5583 - val_mae: 6.0393\n",
            "Epoch 94/100\n",
            "31/31 [==============================] - 1s 42ms/step - loss: 4.5511 - mae: 5.0262 - val_loss: 6.5441 - val_mae: 7.0267\n",
            "Epoch 95/100\n",
            "31/31 [==============================] - 1s 39ms/step - loss: 4.5771 - mae: 5.0544 - val_loss: 5.4167 - val_mae: 5.8965\n",
            "Epoch 96/100\n",
            "31/31 [==============================] - 1s 41ms/step - loss: 4.5296 - mae: 5.0038 - val_loss: 6.2439 - val_mae: 6.7243\n",
            "Epoch 97/100\n",
            "31/31 [==============================] - 1s 38ms/step - loss: 4.6664 - mae: 5.1444 - val_loss: 5.5453 - val_mae: 6.0260\n",
            "Epoch 98/100\n",
            "31/31 [==============================] - 1s 41ms/step - loss: 4.5291 - mae: 5.0053 - val_loss: 5.1747 - val_mae: 5.6471\n",
            "Epoch 99/100\n",
            "31/31 [==============================] - 1s 43ms/step - loss: 4.6174 - mae: 5.0910 - val_loss: 7.6316 - val_mae: 8.1211\n",
            "Epoch 100/100\n",
            "31/31 [==============================] - 1s 40ms/step - loss: 4.5331 - mae: 5.0037 - val_loss: 5.9532 - val_mae: 6.4336\n"
          ]
        }
      ],
      "source": [
        "# Reset states generated by Keras\n",
        "tf.keras.backend.clear_session()\n",
        "\n",
        "# Build the model\n",
        "model = tf.keras.models.Sequential([\n",
        "  tf.keras.layers.Lambda(lambda x: tf.expand_dims(x, axis=-1),\n",
        "                      input_shape=[None]),\n",
        "   tf.keras.layers.Bidirectional(tf.keras.layers.LSTM(32, return_sequences=True)),\n",
        "  tf.keras.layers.Bidirectional(tf.keras.layers.LSTM(32)),\n",
        "  tf.keras.layers.Dense(1),\n",
        "  tf.keras.layers.Lambda(lambda x: x * 100.0)\n",
        "])\n",
        "\n",
        "# Set the learning rate\n",
        "learning_rate = 2e-6\n",
        "\n",
        "# Set the optimizer \n",
        "optimizer = tf.keras.optimizers.SGD(learning_rate=learning_rate, momentum=0.9)\n",
        "\n",
        "# Set the training parameters\n",
        "model.compile(loss=tf.keras.losses.Huber(),\n",
        "              optimizer=optimizer,\n",
        "              metrics=[\"mae\"])\n",
        "\n",
        "# Train the model\n",
        "history = model.fit(dataset,epochs=100, validation_data=val_set)"
      ]
    }
  ],
  "metadata": {
    "accelerator": "TPU",
    "colab": {
      "provenance": [],
      "include_colab_link": true
    },
    "kernelspec": {
      "display_name": "Python 3",
      "language": "python",
      "name": "python3"
    },
    "language_info": {
      "codemirror_mode": {
        "name": "ipython",
        "version": 3
      },
      "file_extension": ".py",
      "mimetype": "text/x-python",
      "name": "python",
      "nbconvert_exporter": "python",
      "pygments_lexer": "ipython3",
      "version": "3.7.4"
    },
    "gpuClass": "standard"
  },
  "nbformat": 4,
  "nbformat_minor": 0
}